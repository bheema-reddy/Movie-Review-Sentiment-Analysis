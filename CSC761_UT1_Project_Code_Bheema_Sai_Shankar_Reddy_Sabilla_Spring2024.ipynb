{
  "nbformat": 4,
  "nbformat_minor": 0,
  "metadata": {
    "colab": {
      "provenance": []
    },
    "kernelspec": {
      "name": "python3",
      "display_name": "Python 3"
    },
    "language_info": {
      "name": "python"
    }
  },
  "cells": [
    {
      "cell_type": "markdown",
      "source": [
        "\n",
        "**Full Name:** Bheema Sai Shankar Reddy Sabilla\n",
        "\n",
        "**Course Name:** CSC 761-UT1 - Advanced Artificial Intelligence - Spring 2024\n",
        "\n",
        "**Project Title:**Movie Review Sentiment Analysis\n"
      ],
      "metadata": {
        "id": "x5JZbHEaT7qv"
      }
    },
    {
      "cell_type": "markdown",
      "source": [
        "**Data Set Reference:**https://ai.stanford.edu/~amaas/data/sentiment/\n",
        "\n",
        "**Data Set Selection:**\n",
        "**The IMDb movie reviews dataset was selected for several reasons:**\n",
        "\n",
        "The IMDb movie reviews dataset was selected for several reasons:\n",
        "\n",
        "1. **Accessibility**: The dataset is readily available and widely used in the research community, making it easily accessible for experimentation and comparison with existing literature.\n",
        "\n",
        "2. **Size and Diversity**: The dataset contains a large number of movie reviews spanning various genres, allowing for a diverse range of sentiments and linguistic styles to be captured. This diversity enhances the robustness and generalizability of models trained on the dataset.\n",
        "\n",
        "3. **Quality Labels**: Each review in the dataset is labeled with sentiment polarity (positive or negative), providing ground truth annotations for training and evaluation. This ensures the reliability and consistency of the dataset, facilitating accurate model training and assessment.\n",
        "\n",
        "4. **Benchmarking**: The IMDb dataset serves as a benchmark for sentiment analysis tasks, enabling researchers to evaluate the performance of new models against established baselines. This facilitates comparative analyses and advancements in sentiment analysis techniques.\n",
        "\n",
        "5. **Relevance**: Movie reviews are a common form of user-generated content on the internet, with sentiment analysis being a valuable application in understanding public opinion and consumer preferences. Therefore, the IMDb dataset holds practical relevance for real-world sentiment analysis applications.\n",
        "\n",
        "By selecting the IMDb movie reviews dataset, researchers and practitioners can leverage its benefits to develop and evaluate sentiment analysis models effectively."
      ],
      "metadata": {
        "id": "DcYesYaKqeNB"
      }
    },
    {
      "cell_type": "code",
      "source": [
        "# We can directly Download the dataset using this command.\n",
        "!wget -q -nc http://ai.stanford.edu/~amaas/data/sentiment/aclImdb_v1.tar.gz\n",
        "# Unzip the dataset.\n",
        "!tar -zxf /content/aclImdb_v1.tar.gz"
      ],
      "metadata": {
        "id": "MYTBFmN5Qg96"
      },
      "execution_count": null,
      "outputs": []
    },
    {
      "cell_type": "code",
      "source": [
        "# Importing necessary libraries\n",
        "import warnings\n",
        "import numpy as np\n",
        "import pandas as pd\n",
        "import nltk\n",
        "import re\n",
        "import os\n",
        "import matplotlib.pyplot as plt\n",
        "from nltk.stem import WordNetLemmatizer\n",
        "from nltk.tokenize import word_tokenize\n",
        "from nltk.corpus import stopwords\n",
        "from sklearn.model_selection import train_test_split, cross_val_score\n",
        "from sklearn.feature_extraction.text import CountVectorizer\n",
        "from sklearn.pipeline import Pipeline\n",
        "from sklearn.linear_model import LogisticRegression\n",
        "from sklearn.naive_bayes import MultinomialNB\n",
        "from sklearn.svm import LinearSVC\n",
        "from gensim.parsing.preprocessing import remove_stopwords, strip_punctuation, strip_multiple_whitespaces\n",
        "import en_core_web_sm"
      ],
      "metadata": {
        "id": "IMu0_TsceF7n"
      },
      "execution_count": null,
      "outputs": []
    },
    {
      "cell_type": "code",
      "source": [
        "# Suppressing warnings\n",
        "warnings.filterwarnings(action=\"ignore\")"
      ],
      "metadata": {
        "id": "FDLYK4EweTx2"
      },
      "execution_count": null,
      "outputs": []
    },
    {
      "cell_type": "code",
      "source": [
        "# Downloading necessary NLTK data\n",
        "nltk.download('stopwords')\n",
        "nltk.download('wordnet')\n",
        "nltk.download('punkt')"
      ],
      "metadata": {
        "colab": {
          "base_uri": "https://localhost:8080/"
        },
        "id": "2xRM42xjeUYR",
        "outputId": "da07aa84-4aeb-4669-d1c6-6bec464a24ff"
      },
      "execution_count": null,
      "outputs": [
        {
          "output_type": "stream",
          "name": "stderr",
          "text": [
            "[nltk_data] Downloading package stopwords to /root/nltk_data...\n",
            "[nltk_data]   Package stopwords is already up-to-date!\n",
            "[nltk_data] Downloading package wordnet to /root/nltk_data...\n",
            "[nltk_data]   Package wordnet is already up-to-date!\n",
            "[nltk_data] Downloading package punkt to /root/nltk_data...\n",
            "[nltk_data]   Package punkt is already up-to-date!\n"
          ]
        },
        {
          "output_type": "execute_result",
          "data": {
            "text/plain": [
              "True"
            ]
          },
          "metadata": {},
          "execution_count": 45
        }
      ]
    },
    {
      "cell_type": "code",
      "source": [
        "# Load English language model\n",
        "en_core_web_sm.load()"
      ],
      "metadata": {
        "colab": {
          "base_uri": "https://localhost:8080/"
        },
        "id": "ipYAC5aYeUaE",
        "outputId": "68a5b42c-6678-42f3-9912-936330f657ab"
      },
      "execution_count": null,
      "outputs": [
        {
          "output_type": "execute_result",
          "data": {
            "text/plain": [
              "<spacy.lang.en.English at 0x7cf91bc6a950>"
            ]
          },
          "metadata": {},
          "execution_count": 46
        }
      ]
    },
    {
      "cell_type": "code",
      "source": [
        "# Path to the dataset\n",
        "PATH = \"/content/aclImdb\""
      ],
      "metadata": {
        "id": "-JZsW3m7eUb6"
      },
      "execution_count": null,
      "outputs": []
    },
    {
      "cell_type": "code",
      "source": [
        "# Function to read text files from a directory\n",
        "def read_files(directory):\n",
        "    files = [os.path.join(directory, f) for f in os.listdir(directory) if f.endswith(\".txt\")]\n",
        "    texts = []\n",
        "    for file in files:\n",
        "        with open(file, 'r', encoding='utf-8') as f:\n",
        "            texts.append(f.read())\n",
        "    return texts"
      ],
      "metadata": {
        "id": "KGqa0VvLeUdl"
      },
      "execution_count": null,
      "outputs": []
    },
    {
      "cell_type": "code",
      "source": [
        "# Function to read training and testing data\n",
        "def read_data(train_dir, test_dir):\n",
        "    train_pos = read_files(os.path.join(PATH, train_dir, 'pos'))\n",
        "    train_neg = read_files(os.path.join(PATH, train_dir, 'neg'))\n",
        "    test_pos = read_files(os.path.join(PATH, test_dir, 'pos'))\n",
        "    test_neg = read_files(os.path.join(PATH, test_dir, 'neg'))\n",
        "    return train_pos, train_neg, test_pos, test_neg"
      ],
      "metadata": {
        "id": "w4TbsGdfeUfu"
      },
      "execution_count": null,
      "outputs": []
    },
    {
      "cell_type": "code",
      "source": [
        "# Preprocess text data\n",
        "def preprocess_text(text):\n",
        "    text = text.lower()\n",
        "    text = remove_stopwords(text)\n",
        "    text = strip_punctuation(text)\n",
        "    text = strip_multiple_whitespaces(text)\n",
        "    text = ' '.join([re.sub(r'\\d+', '', word) for word in word_tokenize(text)])\n",
        "    return text"
      ],
      "metadata": {
        "id": "zePLsXw4eUho"
      },
      "execution_count": null,
      "outputs": []
    },
    {
      "cell_type": "code",
      "source": [
        "# Data preprocessing function\n",
        "def data_processing(texts):\n",
        "    return [preprocess_text(text) for text in texts]\n"
      ],
      "metadata": {
        "id": "DShrD0VAeUjw"
      },
      "execution_count": null,
      "outputs": []
    },
    {
      "cell_type": "code",
      "source": [
        "# Function to train and evaluate models\n",
        "def train_and_evaluate(models, X_train, y_train, X_test, y_test):\n",
        "    results = {}\n",
        "    for name, model in models.items():\n",
        "        model_pipeline = Pipeline([('vect', CountVectorizer()), ('clf', model)])\n",
        "        print(f\"Training {name} model...\")\n",
        "        model_pipeline.fit(X_train, y_train)\n",
        "        accuracy = model_pipeline.score(X_test, y_test)\n",
        "        print(f\"Accuracy on test set: {accuracy}\")\n",
        "        cv_scores = cross_val_score(model_pipeline, X_train, y_train, cv=3)\n",
        "        mean_accuracy = np.mean(cv_scores)\n",
        "        print(f\"Mean accuracy on training set (CV=3): {mean_accuracy}\")\n",
        "        results[name] = mean_accuracy\n",
        "    return results"
      ],
      "metadata": {
        "id": "nErPdBWEeUnI"
      },
      "execution_count": null,
      "outputs": []
    },
    {
      "cell_type": "code",
      "source": [
        "# Read data from files\n",
        "train_pos, train_neg, test_pos, test_neg = read_data('train', 'test')"
      ],
      "metadata": {
        "id": "wjMf_jHDeU0o"
      },
      "execution_count": null,
      "outputs": []
    },
    {
      "cell_type": "code",
      "source": [
        "# Preprocess data\n",
        "train_pos_processed = data_processing(train_pos)\n",
        "train_neg_processed = data_processing(train_neg)\n",
        "test_pos_processed = data_processing(test_pos)\n",
        "test_neg_processed = data_processing(test_neg)"
      ],
      "metadata": {
        "id": "aC1pE9CIeU2q"
      },
      "execution_count": null,
      "outputs": []
    },
    {
      "cell_type": "code",
      "source": [
        "\n",
        "# Combine processed data into DataFrames\n",
        "reviews_train = pd.DataFrame({\"review\": train_pos_processed + train_neg_processed, \"Label\": [1] * len(train_pos_processed) + [-1] * len(train_neg_processed)})\n",
        "reviews_test = pd.DataFrame({\"review\": test_pos_processed + test_neg_processed, \"Label\": [1] * len(test_pos_processed) + [-1] * len(test_neg_processed)})"
      ],
      "metadata": {
        "id": "etCYC5_peU4r"
      },
      "execution_count": null,
      "outputs": []
    },
    {
      "cell_type": "code",
      "source": [
        "# Shuffle the data\n",
        "reviews_train = reviews_train.sample(frac=1, random_state=1)\n",
        "reviews_test = reviews_test.sample(frac=1, random_state=1)"
      ],
      "metadata": {
        "id": "b40ATwuEeU8Q"
      },
      "execution_count": null,
      "outputs": []
    },
    {
      "cell_type": "code",
      "source": [
        "# Split data into train and test sets\n",
        "X_train, X_test, y_train, y_test = train_test_split(reviews_train['review'], reviews_train['Label'], test_size=0.3, random_state=42)\n",
        "\n",
        "# Define models\n",
        "models = {\n",
        "    'Logistic Regression': LogisticRegression(),\n",
        "    'Linear SVM': LinearSVC(),\n",
        "    'Naive Bayes': MultinomialNB()\n",
        "}\n"
      ],
      "metadata": {
        "id": "sQ9DGgi4fTov"
      },
      "execution_count": null,
      "outputs": []
    },
    {
      "cell_type": "code",
      "source": [
        "# Train and evaluate models\n",
        "results = train_and_evaluate(models, X_train, y_train, X_test, y_test)"
      ],
      "metadata": {
        "colab": {
          "base_uri": "https://localhost:8080/"
        },
        "id": "frErsXZkfsVN",
        "outputId": "2bfff2ed-2bc9-4a76-f135-81e3dc58eb28"
      },
      "execution_count": null,
      "outputs": [
        {
          "output_type": "stream",
          "name": "stdout",
          "text": [
            "Training Logistic Regression model...\n",
            "Accuracy on test set: 0.8770666666666667\n",
            "Mean accuracy on training set (CV=3): 0.8662859485011367\n",
            "Training Linear SVM model...\n",
            "Accuracy on test set: 0.8617333333333334\n",
            "Mean accuracy on training set (CV=3): 0.8498289230808291\n",
            "Training Naive Bayes model...\n",
            "Accuracy on test set: 0.854\n",
            "Mean accuracy on training set (CV=3): 0.8517145198345532\n"
          ]
        }
      ]
    },
    {
      "cell_type": "code",
      "source": [
        "# Print the mean accuracy of each model\n",
        "print(\"\\nMean Accuracy of Different Models (CV=3):\\n\")\n",
        "for model, accuracy in results.items():\n",
        "    print(f\"{model}: {accuracy:.3f}\")"
      ],
      "metadata": {
        "colab": {
          "base_uri": "https://localhost:8080/"
        },
        "id": "ByYBI3FQfvLL",
        "outputId": "f7d88103-88dd-47f3-92a2-f740a11c8e20"
      },
      "execution_count": null,
      "outputs": [
        {
          "output_type": "stream",
          "name": "stdout",
          "text": [
            "\n",
            "Mean Accuracy of Different Models (CV=3):\n",
            "\n",
            "Logistic Regression: 0.866\n",
            "Linear SVM: 0.850\n",
            "Naive Bayes: 0.852\n"
          ]
        }
      ]
    },
    {
      "cell_type": "code",
      "source": [
        "# Visualize the mean accuracy of each model\n",
        "plt.figure(figsize=(10, 6))\n",
        "bars = plt.bar(results.keys(), results.values(), color=['skyblue', 'salmon', 'lightgreen'])\n",
        "plt.xlabel('Models', fontsize=12)\n",
        "plt.ylabel('Mean Accuracy', fontsize=12)\n",
        "plt.title('Mean Accuracy of Different Models (CV=3)', fontsize=14)\n",
        "plt.ylim(0.8, 0.9)\n",
        "plt.xticks(fontsize=10)\n",
        "plt.yticks(fontsize=10)\n",
        "plt.grid(axis='y', linestyle='--', alpha=0.7)\n",
        "plt.tight_layout()\n",
        "# Adding percentages on top of the bars\n",
        "for bar in bars:\n",
        "    yval = bar.get_height()\n",
        "    plt.text(bar.get_x() + bar.get_width() / 2, yval + 0.005, round(yval, 3), ha='center', va='bottom', fontsize=9)\n",
        "\n",
        "# Adding a legend to indicate the color code for each model\n",
        "plt.legend(bars, results.keys(), loc='center left', bbox_to_anchor=(1, 0.5), fontsize=10)\n",
        "\n",
        "plt.show()"
      ],
      "metadata": {
        "colab": {
          "base_uri": "https://localhost:8080/",
          "height": 549
        },
        "id": "vgZmguJafvNl",
        "outputId": "106d9503-970a-4203-b0e1-cf995f605afe"
      },
      "execution_count": null,
      "outputs": [
        {
          "output_type": "display_data",
          "data": {
            "text/plain": [
              "<Figure size 1000x600 with 1 Axes>"
            ],
            "image/png": "[encoded data removed]"
          },
          "metadata": {}
        }
      ]
    },
    {
      "cell_type": "markdown",
      "source": [
        "#Data Preprocessing:\n",
        "Before analyzing the data, we made sure to clean it up properly. This included making all text lowercase, removing unnecessary words and punctuation, and ensuring all spacing was consistent. These steps were necessary to improve the overall quality and reliability of the dataset.\n"
      ],
      "metadata": {
        "id": "y6OS9jaT2hhd"
      }
    },
    {
      "cell_type": "markdown",
      "source": [
        "#Model Selection:\n",
        "Our approach to selecting models for sentiment analysis involved a careful decision-making process. We opted for Logistic Regression, Linear Support Vector Machine (SVM), and Naive Bayes classifiers due to their proven effectiveness in text classification tasks"
      ],
      "metadata": {
        "id": "p1IvukMr27Vh"
      }
    },
    {
      "cell_type": "markdown",
      "source": [
        "#Model Evaluation:\n",
        "During the training and evaluation phase, each model went through thorough training and evaluation processes. The Logistic Regression model showed impressive performance, reaching an accuracy of around 87.71% on the test set, with a solid mean accuracy of approximately 86.63% during cross-validation (CV=3). The Linear SVM and Naive Bayes models also demonstrated strong performance, with accuracies of approximately 86.17% and 85.40% on the test set, respectively."
      ],
      "metadata": {
        "id": "3W67uawq3dXG"
      }
    },
    {
      "cell_type": "markdown",
      "source": [
        "#Model Performance:\n",
        "Logistic Regression was the top performer in terms of accuracy on the test set, with Naive Bayes and Linear SVM closely following behind. Despite this, Logistic Regression maintained its superior performance when looking at the average accuracy over multiple training iterations (CV=3), although there were only slight variations among the models."
      ],
      "metadata": {
        "id": "rUcY6qoo4Rqw"
      }
    },
    {
      "cell_type": "markdown",
      "source": [
        "#Analysis of data Visualization:\n",
        " We created a bar chart to show how well our models were performing. Logistic Regression had the highest average accuracy at around 86.6%, with Linear SVM and Naive Bayes following closely behind at approximately 85.0% and 85.2%, respectively."
      ],
      "metadata": {
        "id": "EDcdqOPh4RuU"
      }
    },
    {
      "cell_type": "markdown",
      "source": [
        "#Conclusion:\n",
        "In conclusion, the study highlights the effectiveness of Logistic Regression for analyzing sentiments in the IMDb movie reviews dataset. Although Linear SVM and Naive Bayes also showed strong performance, Logistic Regression was ultimately chosen for its higher accuracy and consistent results across different evaluation measures."
      ],
      "metadata": {
        "id": "rH2oLVYK4RyE"
      }
    }
  ]
}